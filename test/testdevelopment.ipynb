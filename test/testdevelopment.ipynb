{
 "cells": [
  {
   "cell_type": "code",
   "execution_count": 1,
   "metadata": {},
   "outputs": [],
   "source": [
    "import os\n",
    "import shutil\n",
    "import subprocess\n",
    "import git\n",
    "\n",
    "def run_tests_on_repo(repo_url, test_path):\n",
    "    # clone the repo\n",
    "    repo_name = repo_url.split('/')[-1].split('.')[0]  # get repo name from url\n",
    "    g = git.cmd.Git(os.getcwd())\n",
    "    g.clone(repo_url)\n",
    "\n",
    "    # Walk through the cloned repo directory\n",
    "    for dirpath, _, filenames in os.walk(repo_name):\n",
    "        for file in filenames:\n",
    "            # Find the required source files\n",
    "            if file.endswith(\".c\") and not file == \"main.c\":\n",
    "                function_name = os.path.splitext(file)[0]  # get function name from file\n",
    "                src_file_path = os.path.join(dirpath, file)\n",
    "                \n",
    "                # Construct the corresponding path in the test directory\n",
    "                relative_dirpath = os.path.relpath(dirpath, repo_name)\n",
    "                test_main_file_path = os.path.join(test_path, relative_dirpath, \"main.c\").replace(\"\\\\\", \"/\")\n",
    "                \n",
    "                print(f\"Expected test file location: {test_main_file_path}\")  # For debugging\n",
    "                \n",
    "                # Copy main.c (test file) to source directory\n",
    "                try:\n",
    "                    shutil.copy(test_main_file_path, dirpath)\n",
    "                except FileNotFoundError:\n",
    "                    print(f\"Test file for {function_name} not found.\")\n",
    "                    continue\n",
    "                \n",
    "                # Compile and run tests\n",
    "                try:\n",
    "                    subprocess.run(['gcc', '-o', function_name, src_file_path, os.path.join(dirpath, 'main.c')], check=True)\n",
    "                    subprocess.run(['./' + function_name], check=True)\n",
    "                    print(f\"Test for {function_name} passed successfully.\")\n",
    "                except subprocess.CalledProcessError:\n",
    "                    print(f\"Test for {function_name} failed.\")\n"
   ]
  },
  {
   "cell_type": "code",
   "execution_count": 2,
   "metadata": {},
   "outputs": [
    {
     "name": "stdout",
     "output_type": "stream",
     "text": [
      "Expected test file location: ./tests/0x01/02/main.c\n"
     ]
    },
    {
     "name": "stderr",
     "output_type": "stream",
     "text": [
      "bevolved01/02/putstr.c:7:9: error: conflicting types for ‘putchar’; have ‘void(char)’\n",
      "    7 | void    putchar(char c)\n",
      "      |         ^~~~~~~\n",
      "In file included from bevolved01/02/putstr.c:2:\n",
      "/usr/include/stdio.h:556:12: note: previous declaration of ‘putchar’ with type ‘int(int)’\n",
      "  556 | extern int putchar (int __c);\n",
      "      |            ^~~~~~~\n"
     ]
    },
    {
     "name": "stdout",
     "output_type": "stream",
     "text": [
      "Test for putstr failed.\n",
      "Expected test file location: ./tests/0x01/00/main.c\n",
      "01234567890123456789Test for print_numbers passed successfully.\n",
      "Expected test file location: ./tests/0x01/01/main.c\n",
      "-1:-1\n",
      "-1:-1\n",
      "0:0\n",
      "1:1\n",
      "1:1\n",
      "2:2\n",
      "55:55\n",
      "6765:6765\n",
      "Test for fibonacci passed successfully.\n",
      "Expected test file location: ./tests/0x01/03/main.c\n",
      "Test for strlen failed.\n"
     ]
    },
    {
     "name": "stderr",
     "output_type": "stream",
     "text": [
      "bevolved01/01/main.c: In function ‘main’:\n",
      "bevolved01/01/main.c:7:27: warning: implicit declaration of function ‘fibonacci’; did you mean ‘ft_fibonacci’? [-Wimplicit-function-declaration]\n",
      "    7 |         printf(\"-1:%d\\n\", fibonacci(-20));\n",
      "      |                           ^~~~~~~~~\n",
      "      |                           ft_fibonacci\n",
      "bevolved01/03/strlen.c:4:9: error: conflicting types for ‘strlen’; have ‘int(char *)’\n",
      "    4 | int     strlen(char *s)\n",
      "      |         ^~~~~~\n",
      "In file included from bevolved01/03/strlen.c:1:\n",
      "/usr/include/string.h:407:15: note: previous declaration of ‘strlen’ with type ‘size_t(const char *)’ {aka ‘long unsigned int(const char *)’}\n",
      "  407 | extern size_t strlen (const char *__s)\n",
      "      |               ^~~~~~\n",
      "bevolved01/03/main.c:4:9: error: conflicting types for ‘strlen’; have ‘int(char *)’\n",
      "    4 | int     strlen(char *str);\n",
      "      |         ^~~~~~\n",
      "In file included from bevolved01/03/main.c:1:\n",
      "/usr/include/string.h:407:15: note: previous declaration of ‘strlen’ with type ‘size_t(const char *)’ {aka ‘long unsigned int(const char *)’}\n",
      "  407 | extern size_t strlen (const char *__s)\n",
      "      |               ^~~~~~\n",
      "bevolved01/03/main.c: In function ‘main’:\n",
      "bevolved01/03/main.c:13:9: error: expected declaration or statement at end of input\n",
      "   13 |         printf(\"len of: '%s': %i\\n\", s1, strlen(s1));\n",
      "      |         ^~~~~~\n"
     ]
    }
   ],
   "source": [
    "repo = \"https://github.com/Noeljarillo/bevolved01\"\n",
    "\n",
    "test = \"./tests/0x01/\"\n",
    "run_tests_on_repo(repo, test)\n"
   ]
  }
 ],
 "metadata": {
  "kernelspec": {
   "display_name": "base",
   "language": "python",
   "name": "python3"
  },
  "language_info": {
   "codemirror_mode": {
    "name": "ipython",
    "version": 3
   },
   "file_extension": ".py",
   "mimetype": "text/x-python",
   "name": "python",
   "nbconvert_exporter": "python",
   "pygments_lexer": "ipython3",
   "version": "3.10.6"
  },
  "orig_nbformat": 4
 },
 "nbformat": 4,
 "nbformat_minor": 2
}
