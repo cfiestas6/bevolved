{
 "cells": [
  {
   "cell_type": "code",
   "execution_count": 5,
   "metadata": {},
   "outputs": [],
   "source": [
    "import os\n",
    "import shutil\n",
    "import subprocess\n",
    "import git\n",
    "\n",
    "def run_tests_on_repo(repo_url, test_path):\n",
    "    # clone the repo\n",
    "    repo_name = repo_url.split('/')[-1].split('.')[0]  # get repo name from url\n",
    "    g = git.cmd.Git(os.getcwd())\n",
    "    g.clone(repo_url)\n",
    "\n",
    "    # Walk through the cloned repo directory\n",
    "    for dirpath, _, filenames in os.walk(repo_name):\n",
    "        for file in filenames:\n",
    "            # Find the required source files\n",
    "            if file.endswith(\".c\") and not file == \"main.c\":\n",
    "                function_name = os.path.splitext(file)[0]  # get function name from file\n",
    "                src_file_path = os.path.join(dirpath, file)\n",
    "                \n",
    "                # Construct the corresponding path in the test directory\n",
    "                relative_dirpath = os.path.relpath(dirpath, repo_name)\n",
    "                test_main_file_path = os.path.join(test_path, relative_dirpath, \"main.c\").replace(\"\\\\\", \"/\")\n",
    "                \n",
    "                print(f\"Expected test file location: {test_main_file_path}\")  # For debugging\n",
    "                \n",
    "                # Copy main.c (test file) to source directory\n",
    "                try:\n",
    "                    shutil.copy(test_main_file_path, dirpath)\n",
    "                except FileNotFoundError:\n",
    "                    print(f\"Test file for {function_name} not found.\")\n",
    "                    continue\n",
    "                \n",
    "                # Compile and run tests\n",
    "                try:\n",
    "                    subprocess.run(['gcc', '-o', function_name, src_file_path, os.path.join(dirpath, 'main.c')], check=True)\n",
    "                    subprocess.run(['./' + function_name], check=True)\n",
    "                    print(f\"Test for {function_name} passed successfully.\")\n",
    "                except subprocess.CalledProcessError:\n",
    "                    print(f\"Test for {function_name} failed.\")\n",
    "    print('all Test Pass!')\n",
    "    return(True)\n",
    "\n"
   ]
  },
  {
   "cell_type": "code",
   "execution_count": 4,
   "metadata": {},
   "outputs": [
    {
     "name": "stdout",
     "output_type": "stream",
     "text": [
      "Expected test file location: ./tests/0x01/02/main.c\n",
      "--\n",
      "hola!\n",
      "asd\u000bsfgTest for putstr passed successfully.\n",
      "Expected test file location: ./tests/0x01/00/main.c\n",
      "01234567890123456789Test for print_numbers passed successfully.\n",
      "Expected test file location: ./tests/0x01/01/main.c\n",
      "-1:-1\n",
      "-1:-1\n",
      "0:0\n",
      "1:1\n",
      "1:1\n",
      "2:2\n",
      "55:55\n",
      "6765:6765\n",
      "Test for fibonacci passed successfully.\n",
      "Expected test file location: ./tests/0x01/03/main.c\n",
      "len of: '': 0\n",
      "len of: 'sggdsdsg': 8\n",
      "len of: 'asd\u000bsfg': 7\n",
      "Test for strlen passed successfully.\n"
     ]
    }
   ],
   "source": [
    "repo = \"https://github.com/Noeljarillo/bevolved01\"\n",
    "\n",
    "test = \"./tests/0x01/\"\n",
    "run_tests_on_repo(repo, test)\n"
   ]
  }
 ],
 "metadata": {
  "kernelspec": {
   "display_name": "base",
   "language": "python",
   "name": "python3"
  },
  "language_info": {
   "codemirror_mode": {
    "name": "ipython",
    "version": 3
   },
   "file_extension": ".py",
   "mimetype": "text/x-python",
   "name": "python",
   "nbconvert_exporter": "python",
   "pygments_lexer": "ipython3",
   "version": "3.10.6"
  },
  "orig_nbformat": 4
 },
 "nbformat": 4,
 "nbformat_minor": 2
}
