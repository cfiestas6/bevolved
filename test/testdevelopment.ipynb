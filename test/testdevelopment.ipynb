{
 "cells": [
  {
   "cell_type": "code",
   "execution_count": null,
   "metadata": {},
   "outputs": [],
   "source": [
    "import os\n",
    "import sqlite3\n",
    "import subprocess\n",
    "from github import Github\n",
    "\n",
    "conn = sqlite3.connect('test_results.db')\n",
    "\n",
    "conn.execute('''\n",
    "CREATE TABLE IF NOT EXISTS results\n",
    "(id INTEGER PRIMARY KEY AUTOINCREMENT, \n",
    "module TEXT NOT NULL, \n",
    "exercise TEXT NOT NULL, \n",
    "result TEXT NOT NULL);\n",
    "''')\n",
    "\n",
    "conn.commit()\n",
    "conn.close\n",
    "g = Github()  \n",
    "def compile_and_test(module, repo_name, repo_owner):\n",
    "\n",
    "    repo = g.get_user(repo_owner).get_repo(repo_name)\n",
    "    #add logic to check not duplicated\n",
    "    subprocess.check_call(f'git clone https://github.com/{repo_owner}/{repo_name}.git', shell=True)\n",
    "\n",
    "    # Navigate into the repository\n",
    "    os.chdir(repo_name)\n",
    "\n",
    "    # For each exercise in the module\n",
    "    for content in repo.get_contents(module):\n",
    "        if content.type == \"dir\":\n",
    "            exercise = content.name\n",
    "            os.chdir(exercise)\n",
    "            \n",
    "            # Compile the C code\n",
    "                        \n",
    "            \n",
    "            # Save the result in the database\n",
    "            conn.execute('''\n",
    "            INSERT INTO results (module, exercise, result) \n",
    "            VALUES (?, ?, ?);\n",
    "            ''', (module, exercise, 'Pass' if result == 0 else 'Fail'))\n",
    "            \n",
    "            # Navigate back up to the module directory\n",
    "            os.chdir('..')\n",
    "            \n",
    "    # Commit the changes to the database\n",
    "    conn.commit()\n",
    "\n",
    "    # Navigate back to the original directory\n",
    "    os.chdir('..')\n",
    "\n",
    "    # Remove the cloned repository\n",
    "    subprocess.check_call(f'rm -rf {repo_name}', shell=True)\n",
    "\n",
    "compile_and_test('module1', 'repo_name')  # replace 'module1' and 'repo_name' with your module and repo names\n"
   ]
  },
  {
   "cell_type": "code",
   "execution_count": 3,
   "metadata": {},
   "outputs": [],
   "source": [
    "import os\n",
    "import shutil\n",
    "import subprocess\n",
    "import git\n",
    "\n",
    "def run_tests_on_repo(repo_url, test_path):\n",
    "    # clone the repo\n",
    "    repo_name = repo_url.split('/')[-1].split('.')[0]  # get repo name from url\n",
    "    g = git.cmd.Git(os.getcwd())\n",
    "    g.clone(repo_url)\n",
    "\n",
    "    # Walk through the cloned repo directory\n",
    "    for dirpath, dirnames, filenames in os.walk(repo_name):\n",
    "        for file in filenames:\n",
    "            # Find the required source files\n",
    "            if file.endswith(\".c\") and not file == \"main.c\":\n",
    "                function_name = os.path.splitext(file)[0]  # get function name from file\n",
    "                src_file_path = os.path.join(dirpath, file)\n",
    "                main_test_file_path = os.path.join(dirpath, \"main.c\")\n",
    "                \n",
    "                # Construct the corresponding path in the test directory\n",
    "                relative_dirpath = os.path.relpath(dirpath, repo_name)\n",
    "                test_src_file_path = os.path.join(test_path, relative_dirpath, file)\n",
    "                test_main_file_path = os.path.join(test_path, relative_dirpath, \"main.c\")\n",
    "                \n",
    "                # Copy test files to source directory\n",
    "                shutil.copy(test_src_file_path, src_file_path)\n",
    "                shutil.copy(test_main_file_path, main_test_file_path)\n",
    "                \n",
    "                # Compile and run tests\n",
    "                try:\n",
    "                    subprocess.run(['gcc', '-o', function_name, src_file_path, main_test_file_path], check=True)\n",
    "                    subprocess.run(['./' + function_name], check=True)\n",
    "                    print(f\"Test for {function_name} passed successfully.\")\n",
    "                except subprocess.CalledProcessError:\n",
    "                    print(f\"Test for {function_name} failed.\")\n"
   ]
  },
  {
   "cell_type": "code",
   "execution_count": null,
   "metadata": {},
   "outputs": [],
   "source": [
    "repo = \n",
    "run_tests_on_repo(repo, test):\n"
   ]
  },
  {
   "cell_type": "code",
   "execution_count": 2,
   "metadata": {},
   "outputs": [
    {
     "name": "stdout",
     "output_type": "stream",
     "text": [
      "Collecting GitPython\n",
      "  Downloading GitPython-3.1.31-py3-none-any.whl (184 kB)\n",
      "     ------------------------------------ 184.3/184.3 kB 798.6 kB/s eta 0:00:00\n",
      "Collecting gitdb<5,>=4.0.1\n",
      "  Downloading gitdb-4.0.10-py3-none-any.whl (62 kB)\n",
      "     ---------------------------------------- 62.7/62.7 kB 3.3 MB/s eta 0:00:00\n",
      "Collecting smmap<6,>=3.0.1\n",
      "  Using cached smmap-5.0.0-py3-none-any.whl (24 kB)\n",
      "Installing collected packages: smmap, gitdb, GitPython\n",
      "Successfully installed GitPython-3.1.31 gitdb-4.0.10 smmap-5.0.0\n"
     ]
    },
    {
     "name": "stderr",
     "output_type": "stream",
     "text": [
      "\n",
      "[notice] A new release of pip available: 22.3.1 -> 23.1.2\n",
      "[notice] To update, run: C:\\Users\\Noel\\AppData\\Local\\Microsoft\\WindowsApps\\PythonSoftwareFoundation.Python.3.9_qbz5n2kfra8p0\\python.exe -m pip install --upgrade pip\n"
     ]
    }
   ],
   "source": [
    "!pip install GitPython\n"
   ]
  }
 ],
 "metadata": {
  "kernelspec": {
   "display_name": "base",
   "language": "python",
   "name": "python3"
  },
  "language_info": {
   "codemirror_mode": {
    "name": "ipython",
    "version": 3
   },
   "file_extension": ".py",
   "mimetype": "text/x-python",
   "name": "python",
   "nbconvert_exporter": "python",
   "pygments_lexer": "ipython3",
   "version": "3.9.13"
  },
  "orig_nbformat": 4
 },
 "nbformat": 4,
 "nbformat_minor": 2
}
