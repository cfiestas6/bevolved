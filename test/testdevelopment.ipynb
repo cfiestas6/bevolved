{
 "cells": [
  {
   "cell_type": "code",
   "execution_count": 3,
   "metadata": {},
   "outputs": [],
   "source": [
    "import os\n",
    "import shutil\n",
    "import subprocess\n",
    "import git\n",
    "\n",
    "def run_tests_on_repo(repo_url, test_path):\n",
    "    # clone the repo\n",
    "    repo_name = repo_url.split('/')[-1].split('.')[0]  # get repo name from url\n",
    "    g = git.cmd.Git(os.getcwd())\n",
    "    g.clone(repo_url)\n",
    "\n",
    "    # Walk through the cloned repo directory\n",
    "    for dirpath, _, filenames in os.walk(repo_name):\n",
    "        for file in filenames:\n",
    "            # Find the required source files\n",
    "            if file.endswith(\".c\") and not file == \"main.c\":\n",
    "                function_name = os.path.splitext(file)[0]  # get function name from file\n",
    "                src_file_path = os.path.join(dirpath, file)\n",
    "                \n",
    "                # Construct the corresponding path in the test directory\n",
    "                relative_dirpath = os.path.relpath(dirpath, repo_name)\n",
    "                test_main_file_path = os.path.join(test_path, relative_dirpath, \"main.c\").replace(\"\\\\\", \"/\")\n",
    "                \n",
    "                print(f\"Expected test file location: {test_main_file_path}\")  # For debugging\n",
    "                \n",
    "                # Copy main.c (test file) to source directory\n",
    "                try:\n",
    "                    shutil.copy(test_main_file_path, dirpath)\n",
    "                except FileNotFoundError:\n",
    "                    print(f\"Test file for {function_name} not found.\")\n",
    "                    continue\n",
    "                \n",
    "                # Compile and run tests\n",
    "                try:\n",
    "                    subprocess.run(['gcc', '-o', function_name, src_file_path, os.path.join(dirpath, 'main.c')], check=True)\n",
    "                    subprocess.run(['./' + function_name], check=True)\n",
    "                    print(f\"Test for {function_name} passed successfully.\")\n",
    "                except subprocess.CalledProcessError:\n",
    "                    print(f\"Test for {function_name} failed.\")\n",
    "    print('all Test Pass!')\n",
    "    return(True)\n",
    "\n"
   ]
  },
  {
   "cell_type": "code",
   "execution_count": 5,
   "metadata": {},
   "outputs": [
    {
     "name": "stdout",
     "output_type": "stream",
     "text": [
      "Expected test file location: ./tests/exam/02/main.c\n",
      "same string: yours: 'aaaaxyz', std: 'aaaaxyz', 1\n",
      "same string: yours: 'aaaa', std: 'aaaa': 1\n",
      "Test for x_strcat passed successfully.\n",
      "Expected test file location: ./tests/exam/05/main.c\n",
      "0:0\n",
      "0:0\n",
      "1:1\n",
      "10:10\n",
      "100:100\n",
      "216:216\n",
      "Test for x_recursive_power passed successfully.\n",
      "Expected test file location: ./tests/exam/00/main.c\n",
      "Test for x_strcmp failed.\n",
      "Expected test file location: ./tests/exam/01/main.c\n",
      "std: -1, yours: -1\n",
      "std: 0, yours: 0\n",
      "std: -1, yours: -1\n",
      "std: 0, yours: 0\n",
      "std: 101, yours: 101\n",
      "std: 0, yours: 0\n",
      "std: -116, yours: -116\n",
      "Test for x_strncmp passed successfully.\n",
      "Expected test file location: ./tests/exam/03/main.c\n",
      "n: 0, same string: yours: 'aaaa', std: 'aaaa', 1\n",
      "n: 2, same string: yours: 'aaaaxy', std: 'aaaaxy', 1\n",
      "n: 3, same string: yours: 'aaaaxyz', std: 'aaaaxyz', 1\n",
      "n: 4, same string: yours: 'aaaaxyz', std: 'aaaaxyz', 1\n",
      "n: 5, same string: yours: 'aaaaxyz', std: 'aaaaxyz', 1\n",
      "Test for x_strncat passed successfully.\n",
      "Expected test file location: ./tests/exam/04/main.c\n",
      "Test for x_iterative_factorial passed successfully.0:0\n",
      "0:0\n",
      "1:1\n",
      "1:1\n",
      "3628800:3628800\n",
      "6:6\n",
      "\n",
      "all Test Pass!\n"
     ]
    },
    {
     "name": "stderr",
     "output_type": "stream",
     "text": [
      "/bin/ld: /tmp/ccyTS6YH.o: in function `x_strcmp':\n",
      "main.c:(.text+0x0): multiple definition of `x_strcmp'; /tmp/ccHpnyxV.o:x_strcmp.c:(.text+0x0): first defined here\n",
      "/bin/ld: /usr/lib/gcc/x86_64-linux-gnu/11/../../../x86_64-linux-gnu/Scrt1.o: in function `_start':\n",
      "(.text+0x1b): undefined reference to `main'\n",
      "collect2: error: ld returned 1 exit status\n",
      "bevolvedExam/01/main.c: In function ‘main’:\n",
      "bevolvedExam/01/main.c:9:65: warning: implicit declaration of function ‘x_strncmp’; did you mean ‘strncmp’? [-Wimplicit-function-declaration]\n",
      "    9 |         printf(\"std: %i, yours: %i\\n\", strncmp(str1, str2, 20), x_strncmp(str1, str2, 20));\n",
      "      |                                                                 ^~~~~~~~~\n",
      "      |                                                                 strncmp\n"
     ]
    },
    {
     "data": {
      "text/plain": [
       "True"
      ]
     },
     "execution_count": 5,
     "metadata": {},
     "output_type": "execute_result"
    }
   ],
   "source": [
    "repo = \"https://github.com/Noeljarillo/bevolvedExam\"\n",
    "\n",
    "test = \"./tests/exam/\"\n",
    "run_tests_on_repo(repo, test)\n"
   ]
  }
 ],
 "metadata": {
  "kernelspec": {
   "display_name": "base",
   "language": "python",
   "name": "python3"
  },
  "language_info": {
   "codemirror_mode": {
    "name": "ipython",
    "version": 3
   },
   "file_extension": ".py",
   "mimetype": "text/x-python",
   "name": "python",
   "nbconvert_exporter": "python",
   "pygments_lexer": "ipython3",
   "version": "3.9.13"
  },
  "orig_nbformat": 4
 },
 "nbformat": 4,
 "nbformat_minor": 2
}
