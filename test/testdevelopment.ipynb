{
 "cells": [
  {
   "cell_type": "code",
   "execution_count": null,
   "metadata": {},
   "outputs": [],
   "source": [
    "import os\n",
    "import sqlite3\n",
    "import subprocess\n",
    "from github import Github\n",
    "\n",
    "conn = sqlite3.connect('test_results.db')\n",
    "\n",
    "conn.execute('''\n",
    "CREATE TABLE IF NOT EXISTS results\n",
    "(id INTEGER PRIMARY KEY AUTOINCREMENT, \n",
    "module TEXT NOT NULL, \n",
    "exercise TEXT NOT NULL, \n",
    "result TEXT NOT NULL);\n",
    "''')\n",
    "\n",
    "conn.commit()\n",
    "conn.close\n",
    "g = Github()  \n",
    "def compile_and_test(module, repo_name, repo_owner):\n",
    "\n",
    "    repo = g.get_user(repo_owner).get_repo(repo_name)\n",
    "    #add logic to check not duplicated\n",
    "    subprocess.check_call(f'git clone https://github.com/{repo_owner}/{repo_name}.git', shell=True)\n",
    "\n",
    "    # Navigate into the repository\n",
    "    os.chdir(repo_name)\n",
    "\n",
    "    # For each exercise in the module\n",
    "    for content in repo.get_contents(module):\n",
    "        if content.type == \"dir\":\n",
    "            exercise = content.name\n",
    "            os.chdir(exercise)\n",
    "            \n",
    "            # Compile the C code\n",
    "                        \n",
    "            \n",
    "            # Save the result in the database\n",
    "            conn.execute('''\n",
    "            INSERT INTO results (module, exercise, result) \n",
    "            VALUES (?, ?, ?);\n",
    "            ''', (module, exercise, 'Pass' if result == 0 else 'Fail'))\n",
    "            \n",
    "            # Navigate back up to the module directory\n",
    "            os.chdir('..')\n",
    "            \n",
    "    # Commit the changes to the database\n",
    "    conn.commit()\n",
    "\n",
    "    # Navigate back to the original directory\n",
    "    os.chdir('..')\n",
    "\n",
    "    # Remove the cloned repository\n",
    "    subprocess.check_call(f'rm -rf {repo_name}', shell=True)\n",
    "\n",
    "compile_and_test('module1', 'repo_name')  # replace 'module1' and 'repo_name' with your module and repo names\n"
   ]
  },
  {
   "cell_type": "code",
   "execution_count": 1,
   "metadata": {},
   "outputs": [
    {
     "data": {
      "text/plain": [
       "<sqlite3.Cursor at 0x23160960340>"
      ]
     },
     "execution_count": 1,
     "metadata": {},
     "output_type": "execute_result"
    }
   ],
   "source": [
    "import sqlite3\n",
    "\n",
    "conn = sqlite3.connect('test_results.db')\n",
    "\n",
    "conn.execute('''\n",
    "CREATE TABLE IF NOT EXISTS grades\n",
    "(id INTEGER PRIMARY KEY AUTOINCREMENT, \n",
    "module INT NOT NULL, \n",
    "exercise INT NOT NULL, \n",
    "result INT NOT NULL);\n",
    "''')"
   ]
  },
  {
   "cell_type": "code",
   "execution_count": null,
   "metadata": {},
   "outputs": [],
   "source": []
  }
 ],
 "metadata": {
  "kernelspec": {
   "display_name": "base",
   "language": "python",
   "name": "python3"
  },
  "language_info": {
   "codemirror_mode": {
    "name": "ipython",
    "version": 3
   },
   "file_extension": ".py",
   "mimetype": "text/x-python",
   "name": "python",
   "nbconvert_exporter": "python",
   "pygments_lexer": "ipython3",
   "version": "3.9.12"
  },
  "orig_nbformat": 4
 },
 "nbformat": 4,
 "nbformat_minor": 2
}
