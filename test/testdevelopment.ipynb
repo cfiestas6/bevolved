{
 "cells": [
  {
   "cell_type": "code",
   "execution_count": null,
   "metadata": {},
   "outputs": [],
   "source": [
    "import os\n",
    "import sqlite3\n",
    "import subprocess\n",
    "from github import Github\n",
    "\n",
    "conn = sqlite3.connect('test_results.db')\n",
    "\n",
    "conn.execute('''\n",
    "CREATE TABLE IF NOT EXISTS results\n",
    "(id INTEGER PRIMARY KEY AUTOINCREMENT, \n",
    "module TEXT NOT NULL, \n",
    "exercise TEXT NOT NULL, \n",
    "result TEXT NOT NULL);\n",
    "''')\n",
    "\n",
    "conn.commit()\n",
    "conn.close\n",
    "g = Github()  \n",
    "def compile_and_test(module, repo_name, repo_owner):\n",
    "\n",
    "    repo = g.get_user(repo_owner).get_repo(repo_name)\n",
    "    #add logic to check not duplicated\n",
    "    subprocess.check_call(f'git clone https://github.com/{repo_owner}/{repo_name}.git', shell=True)\n",
    "\n",
    "    # Navigate into the repository\n",
    "    os.chdir(repo_name)\n",
    "\n",
    "    # For each exercise in the module\n",
    "    for content in repo.get_contents(module):\n",
    "        if content.type == \"dir\":\n",
    "            exercise = content.name\n",
    "            os.chdir(exercise)\n",
    "            \n",
    "            # Compile the C code\n",
    "                        \n",
    "            \n",
    "            # Save the result in the database\n",
    "            conn.execute('''\n",
    "            INSERT INTO results (module, exercise, result) \n",
    "            VALUES (?, ?, ?);\n",
    "            ''', (module, exercise, 'Pass' if result == 0 else 'Fail'))\n",
    "            \n",
    "            # Navigate back up to the module directory\n",
    "            os.chdir('..')\n",
    "            \n",
    "    # Commit the changes to the database\n",
    "    conn.commit()\n",
    "\n",
    "    # Navigate back to the original directory\n",
    "    os.chdir('..')\n",
    "\n",
    "    # Remove the cloned repository\n",
    "    subprocess.check_call(f'rm -rf {repo_name}', shell=True)\n",
    "\n",
    "compile_and_test('module1', 'repo_name')  # replace 'module1' and 'repo_name' with your module and repo names\n"
   ]
  },
  {
   "cell_type": "code",
   "execution_count": 34,
   "metadata": {},
   "outputs": [],
   "source": [
    "import os\n",
    "import shutil\n",
    "import subprocess\n",
    "import git\n",
    "\n",
    "def run_tests_on_repo(repo_url, test_path):\n",
    "    # clone the repo\n",
    "    repo_name = repo_url.split('/')[-1].split('.')[0]  # get repo name from url\n",
    "    g = git.cmd.Git(os.getcwd())\n",
    "    g.clone(repo_url)\n",
    "\n",
    "    # Walk through the cloned repo directory\n",
    "    for dirpath, _, filenames in os.walk(repo_name):\n",
    "        for file in filenames:\n",
    "            # Find the required source files\n",
    "            if file.endswith(\".c\") and not file == \"main.c\":\n",
    "                function_name = os.path.splitext(file)[0]  # get function name from file\n",
    "                src_file_path = os.path.join(dirpath, file)\n",
    "                \n",
    "                # Construct the corresponding path in the test directory\n",
    "                relative_dirpath = os.path.relpath(dirpath, repo_name)\n",
    "                test_main_file_path = os.path.join(test_path, relative_dirpath, \"main.c\").replace(\"\\\\\", \"/\")\n",
    "                \n",
    "                print(f\"Expected test file location: {test_main_file_path}\")  # For debugging\n",
    "                \n",
    "                # Copy main.c (test file) to source directory\n",
    "                try:\n",
    "                    shutil.copy(test_main_file_path, dirpath)\n",
    "                except FileNotFoundError:\n",
    "                    print(f\"Test file for {function_name} not found.\")\n",
    "                    continue\n",
    "                \n",
    "                # Compile and run tests\n",
    "                try:\n",
    "                    subprocess.run(['gcc', '-o', function_name, src_file_path, os.path.join(dirpath, 'main.c')], check=True)\n",
    "                    subprocess.run(['./' + function_name], check=True)\n",
    "                    print(f\"Test for {function_name} passed successfully.\")\n",
    "                except subprocess.CalledProcessError:\n",
    "                    print(f\"Test for {function_name} failed.\")\n"
   ]
  },
  {
   "cell_type": "code",
   "execution_count": 39,
   "metadata": {},
   "outputs": [
    {
     "name": "stdout",
     "output_type": "stream",
     "text": [
      "Expected test file location: ./tests/0x01/00/main.c\n"
     ]
    },
    {
     "ename": "FileNotFoundError",
     "evalue": "[WinError 2] El sistema no puede encontrar el archivo especificado",
     "output_type": "error",
     "traceback": [
      "\u001b[1;31m---------------------------------------------------------------------------\u001b[0m",
      "\u001b[1;31mFileNotFoundError\u001b[0m                         Traceback (most recent call last)",
      "\u001b[1;32mc:\\Users\\Noel\\beEvolve\\bevolved\\test\\testdevelopment.ipynb Cell 3\u001b[0m in \u001b[0;36m<cell line: 4>\u001b[1;34m()\u001b[0m\n\u001b[0;32m      <a href='vscode-notebook-cell:/c%3A/Users/Noel/beEvolve/bevolved/test/testdevelopment.ipynb#W3sZmlsZQ%3D%3D?line=0'>1</a>\u001b[0m repo \u001b[39m=\u001b[39m \u001b[39m\"\u001b[39m\u001b[39mhttps://github.com/Noeljarillo/bevolved01\u001b[39m\u001b[39m\"\u001b[39m\n\u001b[0;32m      <a href='vscode-notebook-cell:/c%3A/Users/Noel/beEvolve/bevolved/test/testdevelopment.ipynb#W3sZmlsZQ%3D%3D?line=2'>3</a>\u001b[0m test \u001b[39m=\u001b[39m \u001b[39m\"\u001b[39m\u001b[39m./tests/0x01/\u001b[39m\u001b[39m\"\u001b[39m\n\u001b[1;32m----> <a href='vscode-notebook-cell:/c%3A/Users/Noel/beEvolve/bevolved/test/testdevelopment.ipynb#W3sZmlsZQ%3D%3D?line=3'>4</a>\u001b[0m run_tests_on_repo(repo, test)\n",
      "\u001b[1;32mc:\\Users\\Noel\\beEvolve\\bevolved\\test\\testdevelopment.ipynb Cell 3\u001b[0m in \u001b[0;36mrun_tests_on_repo\u001b[1;34m(repo_url, test_path)\u001b[0m\n\u001b[0;32m     <a href='vscode-notebook-cell:/c%3A/Users/Noel/beEvolve/bevolved/test/testdevelopment.ipynb#W3sZmlsZQ%3D%3D?line=32'>33</a>\u001b[0m \u001b[39m# Compile and run tests\u001b[39;00m\n\u001b[0;32m     <a href='vscode-notebook-cell:/c%3A/Users/Noel/beEvolve/bevolved/test/testdevelopment.ipynb#W3sZmlsZQ%3D%3D?line=33'>34</a>\u001b[0m \u001b[39mtry\u001b[39;00m:\n\u001b[1;32m---> <a href='vscode-notebook-cell:/c%3A/Users/Noel/beEvolve/bevolved/test/testdevelopment.ipynb#W3sZmlsZQ%3D%3D?line=34'>35</a>\u001b[0m     subprocess\u001b[39m.\u001b[39;49mrun([\u001b[39m'\u001b[39;49m\u001b[39mgcc\u001b[39;49m\u001b[39m'\u001b[39;49m, \u001b[39m'\u001b[39;49m\u001b[39m-o\u001b[39;49m\u001b[39m'\u001b[39;49m, function_name, src_file_path, os\u001b[39m.\u001b[39;49mpath\u001b[39m.\u001b[39;49mjoin(dirpath, \u001b[39m'\u001b[39;49m\u001b[39mmain.c\u001b[39;49m\u001b[39m'\u001b[39;49m)], check\u001b[39m=\u001b[39;49m\u001b[39mTrue\u001b[39;49;00m)\n\u001b[0;32m     <a href='vscode-notebook-cell:/c%3A/Users/Noel/beEvolve/bevolved/test/testdevelopment.ipynb#W3sZmlsZQ%3D%3D?line=35'>36</a>\u001b[0m     subprocess\u001b[39m.\u001b[39mrun([\u001b[39m'\u001b[39m\u001b[39m./\u001b[39m\u001b[39m'\u001b[39m \u001b[39m+\u001b[39m function_name], check\u001b[39m=\u001b[39m\u001b[39mTrue\u001b[39;00m)\n\u001b[0;32m     <a href='vscode-notebook-cell:/c%3A/Users/Noel/beEvolve/bevolved/test/testdevelopment.ipynb#W3sZmlsZQ%3D%3D?line=36'>37</a>\u001b[0m     \u001b[39mprint\u001b[39m(\u001b[39mf\u001b[39m\u001b[39m\"\u001b[39m\u001b[39mTest for \u001b[39m\u001b[39m{\u001b[39;00mfunction_name\u001b[39m}\u001b[39;00m\u001b[39m passed successfully.\u001b[39m\u001b[39m\"\u001b[39m)\n",
      "File \u001b[1;32mC:\\Program Files\\WindowsApps\\PythonSoftwareFoundation.Python.3.9_3.9.3568.0_x64__qbz5n2kfra8p0\\lib\\subprocess.py:505\u001b[0m, in \u001b[0;36mrun\u001b[1;34m(input, capture_output, timeout, check, *popenargs, **kwargs)\u001b[0m\n\u001b[0;32m    502\u001b[0m     kwargs[\u001b[39m'\u001b[39m\u001b[39mstdout\u001b[39m\u001b[39m'\u001b[39m] \u001b[39m=\u001b[39m PIPE\n\u001b[0;32m    503\u001b[0m     kwargs[\u001b[39m'\u001b[39m\u001b[39mstderr\u001b[39m\u001b[39m'\u001b[39m] \u001b[39m=\u001b[39m PIPE\n\u001b[1;32m--> 505\u001b[0m \u001b[39mwith\u001b[39;00m Popen(\u001b[39m*\u001b[39mpopenargs, \u001b[39m*\u001b[39m\u001b[39m*\u001b[39mkwargs) \u001b[39mas\u001b[39;00m process:\n\u001b[0;32m    506\u001b[0m     \u001b[39mtry\u001b[39;00m:\n\u001b[0;32m    507\u001b[0m         stdout, stderr \u001b[39m=\u001b[39m process\u001b[39m.\u001b[39mcommunicate(\u001b[39minput\u001b[39m, timeout\u001b[39m=\u001b[39mtimeout)\n",
      "File \u001b[1;32mC:\\Program Files\\WindowsApps\\PythonSoftwareFoundation.Python.3.9_3.9.3568.0_x64__qbz5n2kfra8p0\\lib\\subprocess.py:951\u001b[0m, in \u001b[0;36mPopen.__init__\u001b[1;34m(self, args, bufsize, executable, stdin, stdout, stderr, preexec_fn, close_fds, shell, cwd, env, universal_newlines, startupinfo, creationflags, restore_signals, start_new_session, pass_fds, user, group, extra_groups, encoding, errors, text, umask)\u001b[0m\n\u001b[0;32m    947\u001b[0m         \u001b[39mif\u001b[39;00m \u001b[39mself\u001b[39m\u001b[39m.\u001b[39mtext_mode:\n\u001b[0;32m    948\u001b[0m             \u001b[39mself\u001b[39m\u001b[39m.\u001b[39mstderr \u001b[39m=\u001b[39m io\u001b[39m.\u001b[39mTextIOWrapper(\u001b[39mself\u001b[39m\u001b[39m.\u001b[39mstderr,\n\u001b[0;32m    949\u001b[0m                     encoding\u001b[39m=\u001b[39mencoding, errors\u001b[39m=\u001b[39merrors)\n\u001b[1;32m--> 951\u001b[0m     \u001b[39mself\u001b[39;49m\u001b[39m.\u001b[39;49m_execute_child(args, executable, preexec_fn, close_fds,\n\u001b[0;32m    952\u001b[0m                         pass_fds, cwd, env,\n\u001b[0;32m    953\u001b[0m                         startupinfo, creationflags, shell,\n\u001b[0;32m    954\u001b[0m                         p2cread, p2cwrite,\n\u001b[0;32m    955\u001b[0m                         c2pread, c2pwrite,\n\u001b[0;32m    956\u001b[0m                         errread, errwrite,\n\u001b[0;32m    957\u001b[0m                         restore_signals,\n\u001b[0;32m    958\u001b[0m                         gid, gids, uid, umask,\n\u001b[0;32m    959\u001b[0m                         start_new_session)\n\u001b[0;32m    960\u001b[0m \u001b[39mexcept\u001b[39;00m:\n\u001b[0;32m    961\u001b[0m     \u001b[39m# Cleanup if the child failed starting.\u001b[39;00m\n\u001b[0;32m    962\u001b[0m     \u001b[39mfor\u001b[39;00m f \u001b[39min\u001b[39;00m \u001b[39mfilter\u001b[39m(\u001b[39mNone\u001b[39;00m, (\u001b[39mself\u001b[39m\u001b[39m.\u001b[39mstdin, \u001b[39mself\u001b[39m\u001b[39m.\u001b[39mstdout, \u001b[39mself\u001b[39m\u001b[39m.\u001b[39mstderr)):\n",
      "File \u001b[1;32mC:\\Program Files\\WindowsApps\\PythonSoftwareFoundation.Python.3.9_3.9.3568.0_x64__qbz5n2kfra8p0\\lib\\subprocess.py:1420\u001b[0m, in \u001b[0;36mPopen._execute_child\u001b[1;34m(self, args, executable, preexec_fn, close_fds, pass_fds, cwd, env, startupinfo, creationflags, shell, p2cread, p2cwrite, c2pread, c2pwrite, errread, errwrite, unused_restore_signals, unused_gid, unused_gids, unused_uid, unused_umask, unused_start_new_session)\u001b[0m\n\u001b[0;32m   1418\u001b[0m \u001b[39m# Start the process\u001b[39;00m\n\u001b[0;32m   1419\u001b[0m \u001b[39mtry\u001b[39;00m:\n\u001b[1;32m-> 1420\u001b[0m     hp, ht, pid, tid \u001b[39m=\u001b[39m _winapi\u001b[39m.\u001b[39;49mCreateProcess(executable, args,\n\u001b[0;32m   1421\u001b[0m                              \u001b[39m# no special security\u001b[39;49;00m\n\u001b[0;32m   1422\u001b[0m                              \u001b[39mNone\u001b[39;49;00m, \u001b[39mNone\u001b[39;49;00m,\n\u001b[0;32m   1423\u001b[0m                              \u001b[39mint\u001b[39;49m(\u001b[39mnot\u001b[39;49;00m close_fds),\n\u001b[0;32m   1424\u001b[0m                              creationflags,\n\u001b[0;32m   1425\u001b[0m                              env,\n\u001b[0;32m   1426\u001b[0m                              cwd,\n\u001b[0;32m   1427\u001b[0m                              startupinfo)\n\u001b[0;32m   1428\u001b[0m \u001b[39mfinally\u001b[39;00m:\n\u001b[0;32m   1429\u001b[0m     \u001b[39m# Child is launched. Close the parent's copy of those pipe\u001b[39;00m\n\u001b[0;32m   1430\u001b[0m     \u001b[39m# handles that only the child should have open.  You need\u001b[39;00m\n\u001b[1;32m   (...)\u001b[0m\n\u001b[0;32m   1433\u001b[0m     \u001b[39m# pipe will not close when the child process exits and the\u001b[39;00m\n\u001b[0;32m   1434\u001b[0m     \u001b[39m# ReadFile will hang.\u001b[39;00m\n\u001b[0;32m   1435\u001b[0m     \u001b[39mself\u001b[39m\u001b[39m.\u001b[39m_close_pipe_fds(p2cread, p2cwrite,\n\u001b[0;32m   1436\u001b[0m                          c2pread, c2pwrite,\n\u001b[0;32m   1437\u001b[0m                          errread, errwrite)\n",
      "\u001b[1;31mFileNotFoundError\u001b[0m: [WinError 2] El sistema no puede encontrar el archivo especificado"
     ]
    }
   ],
   "source": [
    "repo = \"https://github.com/Noeljarillo/bevolved01\"\n",
    "\n",
    "test = \"./tests/0x01/\"\n",
    "run_tests_on_repo(repo, test)\n"
   ]
  }
 ],
 "metadata": {
  "kernelspec": {
   "display_name": "base",
   "language": "python",
   "name": "python3"
  },
  "language_info": {
   "codemirror_mode": {
    "name": "ipython",
    "version": 3
   },
   "file_extension": ".py",
   "mimetype": "text/x-python",
   "name": "python",
   "nbconvert_exporter": "python",
   "pygments_lexer": "ipython3",
   "version": "3.9.13"
  },
  "orig_nbformat": 4
 },
 "nbformat": 4,
 "nbformat_minor": 2
}
